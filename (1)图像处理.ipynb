{
 "cells": [
  {
   "cell_type": "markdown",
   "metadata": {},
   "source": [
    "# 图像处理"
   ]
  },
  {
   "cell_type": "markdown",
   "metadata": {},
   "source": [
    "# Library！"
   ]
  },
  {
   "cell_type": "code",
   "execution_count": 7,
   "metadata": {},
   "outputs": [],
   "source": [
    "import os\n",
    "from skimage import io\n",
    "import numpy as np\n",
    "import pandas as pd\n",
    "from skimage import transform\n",
    "import pandas as pd\n",
    "from skimage import img_as_ubyte\n",
    "from skimage import img_as_float64"
   ]
  },
  {
   "cell_type": "markdown",
   "metadata": {},
   "source": [
    "# 读取所有图像名字"
   ]
  },
  {
   "cell_type": "code",
   "execution_count": 2,
   "metadata": {},
   "outputs": [],
   "source": [
    "imgPath = '/Users/Zeyuan/Documents/Kaggle/humpback-whale-identification/train'\n",
    "imglist = os.listdir(imgPath)"
   ]
  },
  {
   "cell_type": "markdown",
   "metadata": {},
   "source": [
    "## 文件个数"
   ]
  },
  {
   "cell_type": "code",
   "execution_count": 3,
   "metadata": {},
   "outputs": [
    {
     "name": "stdout",
     "output_type": "stream",
     "text": [
      "imgs number: 25361\n",
      "51e7efb28.jpg\n"
     ]
    }
   ],
   "source": [
    "print('imgs number:',len(imglist))\n",
    "print(imglist[0])"
   ]
  },
  {
   "cell_type": "markdown",
   "metadata": {},
   "source": [
    "# 图像形状分析"
   ]
  },
  {
   "cell_type": "markdown",
   "metadata": {},
   "source": [
    "## 读取图片大小（特别慢 没事别重复运行这个）"
   ]
  },
  {
   "cell_type": "code",
   "execution_count": 6,
   "metadata": {},
   "outputs": [
    {
     "name": "stdout",
     "output_type": "stream",
     "text": [
      "reading shape...Suggestion: 看一集芳心纵火\n",
      "reading shape finish!\n"
     ]
    }
   ],
   "source": [
    "print('reading shape...Suggestion: 看一集芳心纵火')\n",
    "all_img_shape=[io.imread('train/%s'%img).shape for img in imglist]\n",
    "print('reading shape finish!')"
   ]
  },
  {
   "cell_type": "markdown",
   "metadata": {},
   "source": [
    "## 长宽处理（平均值）"
   ]
  },
  {
   "cell_type": "code",
   "execution_count": 4,
   "metadata": {},
   "outputs": [],
   "source": [
    "#mean_width = 512 \n",
    "#mean_height = 992\n",
    "\n",
    "mean_width = 512/4\n",
    "mean_height = 992/4"
   ]
  },
  {
   "cell_type": "code",
   "execution_count": 7,
   "metadata": {},
   "outputs": [
    {
     "name": "stdout",
     "output_type": "stream",
     "text": [
      "mean_width:512 \n",
      "mean height:992 \n",
      "mean ratio:0.526022\n"
     ]
    }
   ],
   "source": [
    "all_img_width = [shape[0] for shape in all_img_shape] #all width\n",
    "mean_width = int(np.mean(all_img_width)) #mean width\n",
    "all_img_height = [shape[1] for shape in all_img_shape] #all height\n",
    "mean_height = int(np.mean(all_img_height))# mean height\n",
    "all_ratio = np.array(all_img_width)/np.array(all_img_height) #width/height\n",
    "mean_ratio = np.mean(all_ratio)\n",
    "print('mean_width:%d \\nmean height:%d \\nmean ratio:%f'%(mean_width,mean_height,mean_ratio))\n"
   ]
  },
  {
   "cell_type": "code",
   "execution_count": 8,
   "metadata": {},
   "outputs": [
    {
     "data": {
      "text/plain": [
       "0.526022355626193"
      ]
     },
     "execution_count": 8,
     "metadata": {},
     "output_type": "execute_result"
    }
   ],
   "source": [
    "np.mean(all_ratio)"
   ]
  },
  {
   "cell_type": "code",
   "execution_count": 9,
   "metadata": {},
   "outputs": [
    {
     "data": {
      "text/plain": [
       "<matplotlib.axes._subplots.AxesSubplot at 0x1c1db3efd0>"
      ]
     },
     "execution_count": 9,
     "metadata": {},
     "output_type": "execute_result"
    }
   ],
   "source": [
    "# pd.Series(all_img_width).plot.hist(bins=10, rwidth=0.8,color='#607c8e')\n",
    "#pd.Series(all_img_height).plot.hist(bins=30, rwidth=0.5,color='#607c8e')\n",
    "pd.Series(all_ratio).plot.hist(bins=10, rwidth=0.6)\n",
    "\n"
   ]
  },
  {
   "cell_type": "markdown",
   "metadata": {},
   "source": [
    "## 转换图像大小\n",
    "将最终的文件导出至all_reshape文件夹\n"
   ]
  },
  {
   "cell_type": "code",
   "execution_count": 10,
   "metadata": {},
   "outputs": [
    {
     "name": "stdout",
     "output_type": "stream",
     "text": [
      " processing 25361 images(100.00%), 0 images to go....processing finish\n"
     ]
    }
   ],
   "source": [
    "i = 1\n",
    "for img in imglist:\n",
    "    print('\\r processing %d images(%.2f%%), %s images to go.'%(i, (i/25361*100), (25361-i)),end='')\n",
    "    i += 1\n",
    "    \n",
    "    img_original = io.imread('train/%s'%img)\n",
    "    img_reshape = transform.resize(img_original, (mean_width,mean_height))\n",
    "    io.imsave('all_reshape2/'+img,img_as_ubyte(img_reshape))\n",
    "print('processing finish')"
   ]
  },
  {
   "cell_type": "markdown",
   "metadata": {},
   "source": [
    "现在所有的图片都储存在all_reshape(2)文件夹，大小均为宽512(128），宽992(248）"
   ]
  },
  {
   "cell_type": "code",
   "execution_count": null,
   "metadata": {},
   "outputs": [],
   "source": []
  }
 ],
 "metadata": {
  "kernelspec": {
   "display_name": "Python 3",
   "language": "python",
   "name": "python3"
  },
  "language_info": {
   "codemirror_mode": {
    "name": "ipython",
    "version": 3
   },
   "file_extension": ".py",
   "mimetype": "text/x-python",
   "name": "python",
   "nbconvert_exporter": "python",
   "pygments_lexer": "ipython3",
   "version": "3.7.3"
  },
  "toc": {
   "base_numbering": 1,
   "nav_menu": {},
   "number_sections": true,
   "sideBar": true,
   "skip_h1_title": false,
   "title_cell": "Table of Contents",
   "title_sidebar": "Contents",
   "toc_cell": false,
   "toc_position": {},
   "toc_section_display": true,
   "toc_window_display": false
  }
 },
 "nbformat": 4,
 "nbformat_minor": 4
}
